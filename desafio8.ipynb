{
 "cells": [
  {
   "cell_type": "code",
   "execution_count": 1,
   "metadata": {},
   "outputs": [
    {
     "ename": "SyntaxError",
     "evalue": "EOL while scanning string literal (<ipython-input-1-7bf78550675d>, line 1)",
     "output_type": "error",
     "traceback": [
      "\u001b[0;36m  File \u001b[0;32m\"<ipython-input-1-7bf78550675d>\"\u001b[0;36m, line \u001b[0;32m1\u001b[0m\n\u001b[0;31m    articulos = [\"celular\", \"LG K10\", \"90000\", \"tablet\", \"Galaxy TAB\", \"80000\", \"smart tv\", \"LED 43\u001b[0m\n\u001b[0m                                                                                                   ^\u001b[0m\n\u001b[0;31mSyntaxError\u001b[0m\u001b[0;31m:\u001b[0m EOL while scanning string literal\n"
     ]
    }
   ],
   "source": [
    "articulos = [\"celular\", \"LG K10\", \"90000\", \"tablet\", \"Galaxy TAB\", \"80000\", \"smart tv\", \"LED 43\",\n",
    "             \"Samsung\", \"485000\", \"celular\", \"Galaxy J7\", \"120000\", \"celular\", \"Huawei Y5\", \"59900\", \"notebook\",\n",
    "             \"Lenovo ideapad\", \"250000\", \"tablet\", \"Huawei media\", \"139000\", \"notebook\", \"Acer\", \"145000\"]\n",
    "\n",
    "celulares = []\n",
    "tablets =[]\n",
    "smart_tv = []\n",
    "notebooks = []\n",
    "aux =\"\"\n",
    "\n",
    "for index, elemento in enumerate(articulos):\n",
    "    if index == 0 or index % 3 == 0:\n",
    "    #es categoria\n",
    "    aux = elemento\n",
    "    elif (index - 1) % 3 == 0:\n",
    "    # es nombre\n",
    "    elif (index - 2) % 3 == 0:\n",
    "        pass\n",
    "        "
   ]
  },
  {
   "cell_type": "code",
   "execution_count": 2,
   "metadata": {},
   "outputs": [
    {
     "ename": "IndentationError",
     "evalue": "expected an indented block (<ipython-input-2-fe5871b92852>, line 11)",
     "output_type": "error",
     "traceback": [
      "\u001b[0;36m  File \u001b[0;32m\"<ipython-input-2-fe5871b92852>\"\u001b[0;36m, line \u001b[0;32m11\u001b[0m\n\u001b[0;31m    aux = elemento\u001b[0m\n\u001b[0m      ^\u001b[0m\n\u001b[0;31mIndentationError\u001b[0m\u001b[0;31m:\u001b[0m expected an indented block\n"
     ]
    }
   ],
   "source": [
    "articulos = [\"celular\", \"LG K10\", \"90000\", \"tablet\", \"Galaxy TAB\", \"80000\", \"smart tv\", \"LED 43\", \"Samsung\", \"485000\", \"celular\", \"Galaxy J7\", \"120000\", \"celular\", \"Huawei Y5\", \"59900\", \"notebook\", \"Lenovo ideapad\", \"250000\", \"tablet\", \"Huawei media\", \"139000\", \"notebook\", \"Acer\", \"145000\"]\n",
    "celulares = []\n",
    "tablets = []\n",
    "smart_tv = []\n",
    "notebooks = []\n",
    "aux = \"\"\n",
    "\n",
    "for index, elemento in enumerate(articulos):\n",
    "    if index == 0 or index % 3 == 0:\n",
    "        # es categoria\n",
    "    aux = elemento\n",
    "    elif (index - 1) % 3 == 0:\n",
    "        # es nombre\n",
    "    elif (index - 2) % 3 == 0:\n",
    "        pass\n"
   ]
  },
  {
   "cell_type": "code",
   "execution_count": 3,
   "metadata": {},
   "outputs": [
    {
     "ename": "IndentationError",
     "evalue": "expected an indented block (<ipython-input-3-13f2ddbf2310>, line 16)",
     "output_type": "error",
     "traceback": [
      "\u001b[0;36m  File \u001b[0;32m\"<ipython-input-3-13f2ddbf2310>\"\u001b[0;36m, line \u001b[0;32m16\u001b[0m\n\u001b[0;31m    print(lista)\u001b[0m\n\u001b[0m                ^\u001b[0m\n\u001b[0;31mIndentationError\u001b[0m\u001b[0;31m:\u001b[0m expected an indented block\n"
     ]
    }
   ],
   "source": [
    "auto1 = ['Mazda RX4', 21.0, 6, False, 4]\n",
    "auto2 = ['Merc 240D', 24.4, 4, True, 2]\n",
    "auto3 = ['Merc 280', 19.2, 6, True, 4]\n",
    "auto4 = ['Valiant', 18.1, 6, True, 1]\n",
    "auto5 = ['Merc 450SL', 17.3, 8, False, 3]\n",
    "auto6 = ['Toyota Corolla', 33.9, 4, True, 1]\n",
    "\n",
    "lista = [auto1, auto2, auto3, auto4, auto5, auto6] \n",
    "\n",
    "for index, elemento in enumerate(lista):\n",
    "    if index == 0 or index % 3 == 0:\n",
    "        # es categoria\n",
    "        aux = elemento\n",
    "    elif (index - 1) % 3 == 0:\n",
    "        # es nombre\n",
    "print(lista)"
   ]
  },
  {
   "cell_type": "code",
   "execution_count": 8,
   "metadata": {},
   "outputs": [
    {
     "data": {
      "text/plain": [
       "[4,\n",
       " 2,\n",
       " 4,\n",
       " 10,\n",
       " 7,\n",
       " 4,\n",
       " 7,\n",
       " 22,\n",
       " 8,\n",
       " 16,\n",
       " 9,\n",
       " 10,\n",
       " 10,\n",
       " 18,\n",
       " 10,\n",
       " 26,\n",
       " 10,\n",
       " 34,\n",
       " 11,\n",
       " 17,\n",
       " 11,\n",
       " 28,\n",
       " 12,\n",
       " 14,\n",
       " 12,\n",
       " 20,\n",
       " 12,\n",
       " 24,\n",
       " 12,\n",
       " 28,\n",
       " 13,\n",
       " 26,\n",
       " 13,\n",
       " 34,\n",
       " 13,\n",
       " 34,\n",
       " 13,\n",
       " 46,\n",
       " 14,\n",
       " 26,\n",
       " 14,\n",
       " 36,\n",
       " 14,\n",
       " 60,\n",
       " 14,\n",
       " 80,\n",
       " 15,\n",
       " 20,\n",
       " 15,\n",
       " 26,\n",
       " 15,\n",
       " 54,\n",
       " 16,\n",
       " 32,\n",
       " 16,\n",
       " 40,\n",
       " 17,\n",
       " 32,\n",
       " 17,\n",
       " 40,\n",
       " 17,\n",
       " 50,\n",
       " 18,\n",
       " 42,\n",
       " 18,\n",
       " 56,\n",
       " 18,\n",
       " 76,\n",
       " 18,\n",
       " 84,\n",
       " 19,\n",
       " 36,\n",
       " 19,\n",
       " 46,\n",
       " 19,\n",
       " 68,\n",
       " 20,\n",
       " 32,\n",
       " 20,\n",
       " 48,\n",
       " 20,\n",
       " 52,\n",
       " 20,\n",
       " 56,\n",
       " 20,\n",
       " 64,\n",
       " 22,\n",
       " 66,\n",
       " 23,\n",
       " 54,\n",
       " 24,\n",
       " 70,\n",
       " 24,\n",
       " 92,\n",
       " 24,\n",
       " 93,\n",
       " 24,\n",
       " 120,\n",
       " 25,\n",
       " 85]"
      ]
     },
     "execution_count": 8,
     "metadata": {},
     "output_type": "execute_result"
    }
   ],
   "source": [
    "velocidad = [4, 4, 7, 7, 8, 9, 10, 10, 10,\n",
    "             11, 11, 12, 12, 12, 12, 13, 13,\n",
    "             13, 13, 14, 14, 14, 14, 15, 15,\n",
    "             15, 16, 16, 17, 17, 17, 18, 18,\n",
    "             18, 18, 19, 19, 19, 20, 20, 20,\n",
    "             20, 20, 22, 23, 24, 24, 24, 24, 25]\n",
    "distancia = [2, 10, 4, 22, 16, 10, 18, 26, 34,\n",
    "             17, 28, 14, 20, 24, 28, 26, 34, 34,\n",
    "             46, 26, 36, 60, 80, 20, 26, 54, 32,\n",
    "             40, 32, 40, 50, 42, 56, 76, 84, 36,\n",
    "             46, 68, 32, 48, 52, 56, 64, 66, 54,\n",
    "             70, 92, 93, 120, 85]\n",
    "\n",
    "velocidad_distancia = []\n",
    "\n",
    "for i in zip(velocidad, distancia):\n",
    "    velocidad_distancia.append(i[0])\n",
    "    velocidad_distancia.append(i[1])\n",
    "velocidad_distancia"
   ]
  },
  {
   "cell_type": "code",
   "execution_count": null,
   "metadata": {},
   "outputs": [],
   "source": []
  }
 ],
 "metadata": {
  "kernelspec": {
   "display_name": "Python 3",
   "language": "python",
   "name": "python3"
  },
  "language_info": {
   "codemirror_mode": {
    "name": "ipython",
    "version": 3
   },
   "file_extension": ".py",
   "mimetype": "text/x-python",
   "name": "python",
   "nbconvert_exporter": "python",
   "pygments_lexer": "ipython3",
   "version": "3.7.6"
  }
 },
 "nbformat": 4,
 "nbformat_minor": 4
}
