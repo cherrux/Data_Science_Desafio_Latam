{
 "cells": [
  {
   "cell_type": "code",
   "execution_count": 8,
   "metadata": {},
   "outputs": [
    {
     "name": "stdout",
     "output_type": "stream",
     "text": [
      "1\n",
      "2\n",
      "3\n",
      "4\n",
      "5\n",
      "<ul>\n",
      "\t<li>Elemento1</li>\n",
      "\t<li>Elemento2</li>\n",
      "\t<li>Elemento3</li>\n",
      "\t<li>Elemento4</li>\n",
      "\t<li>Elemento5</li>\n",
      "\n",
      "5\n"
     ]
    }
   ],
   "source": [
    "import sys\n",
    "items  = int(5)\n",
    "\n",
    "\n",
    "html = \"<ul>\\n\"\n",
    "i = 0\n",
    "while i < items:\n",
    "    i += 1\n",
    "    html += \"\\t<li>Elemento{}</li>\\n\".format(i)\n",
    "    print(i)\n",
    "print(html)\n",
    "print(items) "
   ]
  },
  {
   "cell_type": "code",
   "execution_count": 25,
   "metadata": {},
   "outputs": [
    {
     "name": "stdout",
     "output_type": "stream",
     "text": [
      "1\n",
      "2\n",
      "3\n",
      "4\n",
      "5\n",
      "6\n",
      "7\n",
      "8\n",
      "9\n",
      "10\n",
      "55\n",
      "5.5\n"
     ]
    }
   ],
   "source": [
    "import sys\n",
    "\n",
    "i = 0\n",
    "numero = 10\n",
    "suma = 0\n",
    "\n",
    "while i < numero:\n",
    "    i += 1\n",
    "    suma = i + suma\n",
    "    print(i)\n",
    "print(suma)\n",
    "resultado = suma/numero\n",
    "print(resultado)"
   ]
  },
  {
   "cell_type": "code",
   "execution_count": null,
   "metadata": {},
   "outputs": [],
   "source": []
  }
 ],
 "metadata": {
  "kernelspec": {
   "display_name": "Python 3",
   "language": "python",
   "name": "python3"
  },
  "language_info": {
   "codemirror_mode": {
    "name": "ipython",
    "version": 3
   },
   "file_extension": ".py",
   "mimetype": "text/x-python",
   "name": "python",
   "nbconvert_exporter": "python",
   "pygments_lexer": "ipython3",
   "version": "3.7.6"
  }
 },
 "nbformat": 4,
 "nbformat_minor": 4
}
